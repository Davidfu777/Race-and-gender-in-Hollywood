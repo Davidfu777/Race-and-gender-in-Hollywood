{
 "cells": [
  {
   "cell_type": "code",
   "execution_count": 1,
   "metadata": {},
   "outputs": [],
   "source": [
    "# Imports\n",
    "import numpy as np\n",
    "import pandas as pd\n",
    "import matplotlib.pyplot as plt\n",
    "import seaborn as sns\n",
    "%matplotlib inline\n"
   ]
  },
  {
   "cell_type": "code",
   "execution_count": 5,
   "metadata": {},
   "outputs": [],
   "source": [
    "df = pd.read_csv('CSR1333 SOC Marr film character analysis data export from Tableau 20200122.csv') "
   ]
  },
  {
   "cell_type": "code",
   "execution_count": 6,
   "metadata": {},
   "outputs": [
    {
     "data": {
      "text/html": [
       "<div>\n",
       "<style scoped>\n",
       "    .dataframe tbody tr th:only-of-type {\n",
       "        vertical-align: middle;\n",
       "    }\n",
       "\n",
       "    .dataframe tbody tr th {\n",
       "        vertical-align: top;\n",
       "    }\n",
       "\n",
       "    .dataframe thead th {\n",
       "        text-align: right;\n",
       "    }\n",
       "</style>\n",
       "<table border=\"1\" class=\"dataframe\">\n",
       "  <thead>\n",
       "    <tr style=\"text-align: right;\">\n",
       "      <th></th>\n",
       "      <th>1. Character/Person (Sheet11)</th>\n",
       "      <th>1. Character/Person 1 (Sheet11)</th>\n",
       "      <th>1. Character/Person 1</th>\n",
       "      <th>1. Character/Person</th>\n",
       "      <th>10. Education (Sheet11)</th>\n",
       "      <th>10. Education 1 (Sheet11)</th>\n",
       "      <th>10. Education 1</th>\n",
       "      <th>10. Education</th>\n",
       "      <th>10. Was the education level explicitly mentioned? (Sheet11)</th>\n",
       "      <th>10. Was the education level explicitly mentioned? 1 (Sheet11)</th>\n",
       "      <th>...</th>\n",
       "      <th>rank cat (Sheet11)</th>\n",
       "      <th>Rank Cat</th>\n",
       "      <th>rating (Sheet11)</th>\n",
       "      <th>Rating</th>\n",
       "      <th>sex (Sheet11)</th>\n",
       "      <th>Sex</th>\n",
       "      <th>weight (Sheet11)</th>\n",
       "      <th>weight2 (Sheet11)</th>\n",
       "      <th>Weight2</th>\n",
       "      <th>Weight</th>\n",
       "    </tr>\n",
       "  </thead>\n",
       "  <tbody>\n",
       "    <tr>\n",
       "      <td>0</td>\n",
       "      <td>Eilis</td>\n",
       "      <td>Eilis</td>\n",
       "      <td>Eilis</td>\n",
       "      <td>Eilis</td>\n",
       "      <td>College</td>\n",
       "      <td>College</td>\n",
       "      <td>3.0</td>\n",
       "      <td>3.0</td>\n",
       "      <td>No</td>\n",
       "      <td>Yes</td>\n",
       "      <td>...</td>\n",
       "      <td>101 or higher</td>\n",
       "      <td>5</td>\n",
       "      <td>PG-13</td>\n",
       "      <td>2</td>\n",
       "      <td>female</td>\n",
       "      <td>2</td>\n",
       "      <td>average</td>\n",
       "      <td>2.0</td>\n",
       "      <td>2.0</td>\n",
       "      <td>4.0</td>\n",
       "    </tr>\n",
       "    <tr>\n",
       "      <td>1</td>\n",
       "      <td>Tony</td>\n",
       "      <td>Tony</td>\n",
       "      <td>Tony</td>\n",
       "      <td>Tony</td>\n",
       "      <td>High school degree</td>\n",
       "      <td>High school degree</td>\n",
       "      <td>2.0</td>\n",
       "      <td>2.0</td>\n",
       "      <td>No</td>\n",
       "      <td>No</td>\n",
       "      <td>...</td>\n",
       "      <td>101 or higher</td>\n",
       "      <td>5</td>\n",
       "      <td>PG-13</td>\n",
       "      <td>2</td>\n",
       "      <td>male</td>\n",
       "      <td>1</td>\n",
       "      <td>average</td>\n",
       "      <td>2.0</td>\n",
       "      <td>2.0</td>\n",
       "      <td>4.0</td>\n",
       "    </tr>\n",
       "    <tr>\n",
       "      <td>2</td>\n",
       "      <td>Bucky Barnes</td>\n",
       "      <td>NaN</td>\n",
       "      <td>NaN</td>\n",
       "      <td>Bucky Barnes</td>\n",
       "      <td>College</td>\n",
       "      <td>NaN</td>\n",
       "      <td>NaN</td>\n",
       "      <td>3.0</td>\n",
       "      <td>No</td>\n",
       "      <td>NaN</td>\n",
       "      <td>...</td>\n",
       "      <td>25-Jan</td>\n",
       "      <td>1</td>\n",
       "      <td>PG-13</td>\n",
       "      <td>2</td>\n",
       "      <td>male</td>\n",
       "      <td>1</td>\n",
       "      <td>average</td>\n",
       "      <td>2.0</td>\n",
       "      <td>2.0</td>\n",
       "      <td>4.0</td>\n",
       "    </tr>\n",
       "    <tr>\n",
       "      <td>3</td>\n",
       "      <td>Iron Man</td>\n",
       "      <td>Tony Stark</td>\n",
       "      <td>Tony Stark</td>\n",
       "      <td>Iron Man</td>\n",
       "      <td>Graduate school +</td>\n",
       "      <td>Graduate school +</td>\n",
       "      <td>4.0</td>\n",
       "      <td>4.0</td>\n",
       "      <td>NaN</td>\n",
       "      <td>No</td>\n",
       "      <td>...</td>\n",
       "      <td>25-Jan</td>\n",
       "      <td>1</td>\n",
       "      <td>PG-13</td>\n",
       "      <td>2</td>\n",
       "      <td>male</td>\n",
       "      <td>1</td>\n",
       "      <td>average</td>\n",
       "      <td>2.0</td>\n",
       "      <td>2.0</td>\n",
       "      <td>4.0</td>\n",
       "    </tr>\n",
       "    <tr>\n",
       "      <td>4</td>\n",
       "      <td>Natasha Romanoff</td>\n",
       "      <td>NaN</td>\n",
       "      <td>NaN</td>\n",
       "      <td>Natasha Romanoff</td>\n",
       "      <td>College</td>\n",
       "      <td>NaN</td>\n",
       "      <td>NaN</td>\n",
       "      <td>3.0</td>\n",
       "      <td>No</td>\n",
       "      <td>NaN</td>\n",
       "      <td>...</td>\n",
       "      <td>25-Jan</td>\n",
       "      <td>1</td>\n",
       "      <td>PG-13</td>\n",
       "      <td>2</td>\n",
       "      <td>female</td>\n",
       "      <td>2</td>\n",
       "      <td>average</td>\n",
       "      <td>2.0</td>\n",
       "      <td>2.0</td>\n",
       "      <td>4.0</td>\n",
       "    </tr>\n",
       "  </tbody>\n",
       "</table>\n",
       "<p>5 rows × 558 columns</p>\n",
       "</div>"
      ],
      "text/plain": [
       "  1. Character/Person (Sheet11) 1. Character/Person 1 (Sheet11)  \\\n",
       "0                         Eilis                           Eilis   \n",
       "1                          Tony                            Tony   \n",
       "2                  Bucky Barnes                             NaN   \n",
       "3                      Iron Man                      Tony Stark   \n",
       "4              Natasha Romanoff                             NaN   \n",
       "\n",
       "  1. Character/Person 1 1. Character/Person 10. Education (Sheet11)  \\\n",
       "0                 Eilis               Eilis                 College   \n",
       "1                  Tony                Tony      High school degree   \n",
       "2                   NaN        Bucky Barnes                 College   \n",
       "3            Tony Stark            Iron Man       Graduate school +   \n",
       "4                   NaN    Natasha Romanoff                 College   \n",
       "\n",
       "  10. Education 1 (Sheet11)  10. Education 1  10. Education  \\\n",
       "0                   College              3.0            3.0   \n",
       "1        High school degree              2.0            2.0   \n",
       "2                       NaN              NaN            3.0   \n",
       "3         Graduate school +              4.0            4.0   \n",
       "4                       NaN              NaN            3.0   \n",
       "\n",
       "  10. Was the education level explicitly mentioned? (Sheet11)  \\\n",
       "0                                                 No            \n",
       "1                                                 No            \n",
       "2                                                 No            \n",
       "3                                                NaN            \n",
       "4                                                 No            \n",
       "\n",
       "  10. Was the education level explicitly mentioned? 1 (Sheet11)  ...  \\\n",
       "0                                                Yes             ...   \n",
       "1                                                 No             ...   \n",
       "2                                                NaN             ...   \n",
       "3                                                 No             ...   \n",
       "4                                                NaN             ...   \n",
       "\n",
       "   rank cat (Sheet11)  Rank Cat rating (Sheet11) Rating sex (Sheet11) Sex  \\\n",
       "0       101 or higher         5            PG-13      2        female   2   \n",
       "1       101 or higher         5            PG-13      2          male   1   \n",
       "2              25-Jan         1            PG-13      2          male   1   \n",
       "3              25-Jan         1            PG-13      2          male   1   \n",
       "4              25-Jan         1            PG-13      2        female   2   \n",
       "\n",
       "  weight (Sheet11) weight2 (Sheet11) Weight2 Weight  \n",
       "0          average               2.0     2.0    4.0  \n",
       "1          average               2.0     2.0    4.0  \n",
       "2          average               2.0     2.0    4.0  \n",
       "3          average               2.0     2.0    4.0  \n",
       "4          average               2.0     2.0    4.0  \n",
       "\n",
       "[5 rows x 558 columns]"
      ]
     },
     "execution_count": 6,
     "metadata": {},
     "output_type": "execute_result"
    }
   ],
   "source": [
    "df.head()"
   ]
  },
  {
   "cell_type": "code",
   "execution_count": 14,
   "metadata": {
    "scrolled": true
   },
   "outputs": [
    {
     "data": {
      "text/plain": [
       "98"
      ]
     },
     "execution_count": 14,
     "metadata": {},
     "output_type": "execute_result"
    }
   ],
   "source": [
    "len(df['Movie'].unique())"
   ]
  },
  {
   "cell_type": "code",
   "execution_count": 23,
   "metadata": {
    "scrolled": true
   },
   "outputs": [
    {
     "data": {
      "text/plain": [
       "427"
      ]
     },
     "execution_count": 23,
     "metadata": {},
     "output_type": "execute_result"
    }
   ],
   "source": [
    "len(df['Movie'])"
   ]
  },
  {
   "cell_type": "code",
   "execution_count": 27,
   "metadata": {
    "scrolled": false
   },
   "outputs": [
    {
     "data": {
      "text/html": [
       "<div>\n",
       "<style scoped>\n",
       "    .dataframe tbody tr th:only-of-type {\n",
       "        vertical-align: middle;\n",
       "    }\n",
       "\n",
       "    .dataframe tbody tr th {\n",
       "        vertical-align: top;\n",
       "    }\n",
       "\n",
       "    .dataframe thead th {\n",
       "        text-align: right;\n",
       "    }\n",
       "</style>\n",
       "<table border=\"1\" class=\"dataframe\">\n",
       "  <thead>\n",
       "    <tr style=\"text-align: right;\">\n",
       "      <th></th>\n",
       "      <th>6. Age (Sheet11)</th>\n",
       "      <th>6. Age 1 (Sheet11)</th>\n",
       "      <th>6. Age 1</th>\n",
       "      <th>6. Age</th>\n",
       "    </tr>\n",
       "  </thead>\n",
       "  <tbody>\n",
       "    <tr>\n",
       "      <td>0</td>\n",
       "      <td>Middle Age (40-54)</td>\n",
       "      <td>Middle Age (40-54)</td>\n",
       "      <td>6.0</td>\n",
       "      <td>6</td>\n",
       "    </tr>\n",
       "    <tr>\n",
       "      <td>1</td>\n",
       "      <td>Middle Age (40-54)</td>\n",
       "      <td>Middle Age (40-54)</td>\n",
       "      <td>6.0</td>\n",
       "      <td>6</td>\n",
       "    </tr>\n",
       "    <tr>\n",
       "      <td>2</td>\n",
       "      <td>Early teen (13-15)</td>\n",
       "      <td>NaN</td>\n",
       "      <td>NaN</td>\n",
       "      <td>7</td>\n",
       "    </tr>\n",
       "    <tr>\n",
       "      <td>3</td>\n",
       "      <td>Mature Adult (55-64)</td>\n",
       "      <td>Mature Adult (55-64)</td>\n",
       "      <td>8.0</td>\n",
       "      <td>8</td>\n",
       "    </tr>\n",
       "    <tr>\n",
       "      <td>4</td>\n",
       "      <td>Early teen (13-15)</td>\n",
       "      <td>NaN</td>\n",
       "      <td>NaN</td>\n",
       "      <td>7</td>\n",
       "    </tr>\n",
       "    <tr>\n",
       "      <td>...</td>\n",
       "      <td>...</td>\n",
       "      <td>...</td>\n",
       "      <td>...</td>\n",
       "      <td>...</td>\n",
       "    </tr>\n",
       "    <tr>\n",
       "      <td>422</td>\n",
       "      <td>Early teen (13-15)</td>\n",
       "      <td>Early teen (13-15)</td>\n",
       "      <td>7.0</td>\n",
       "      <td>7</td>\n",
       "    </tr>\n",
       "    <tr>\n",
       "      <td>423</td>\n",
       "      <td>Mature Adult (55-64)</td>\n",
       "      <td>Mature Adult (55-64)</td>\n",
       "      <td>8.0</td>\n",
       "      <td>8</td>\n",
       "    </tr>\n",
       "    <tr>\n",
       "      <td>424</td>\n",
       "      <td>Mature Adult (55-64)</td>\n",
       "      <td>Mature Adult (55-64)</td>\n",
       "      <td>8.0</td>\n",
       "      <td>8</td>\n",
       "    </tr>\n",
       "    <tr>\n",
       "      <td>425</td>\n",
       "      <td>Mature Adult (55-64)</td>\n",
       "      <td>Mature Adult (55-64)</td>\n",
       "      <td>8.0</td>\n",
       "      <td>8</td>\n",
       "    </tr>\n",
       "    <tr>\n",
       "      <td>426</td>\n",
       "      <td>Early teen (13-15)</td>\n",
       "      <td>Mature Adult (55-64)</td>\n",
       "      <td>8.0</td>\n",
       "      <td>7</td>\n",
       "    </tr>\n",
       "  </tbody>\n",
       "</table>\n",
       "<p>427 rows × 4 columns</p>\n",
       "</div>"
      ],
      "text/plain": [
       "         6. Age (Sheet11)    6. Age 1 (Sheet11)  6. Age 1  6. Age\n",
       "0      Middle Age (40-54)    Middle Age (40-54)       6.0       6\n",
       "1      Middle Age (40-54)    Middle Age (40-54)       6.0       6\n",
       "2      Early teen (13-15)                   NaN       NaN       7\n",
       "3    Mature Adult (55-64)  Mature Adult (55-64)       8.0       8\n",
       "4      Early teen (13-15)                   NaN       NaN       7\n",
       "..                    ...                   ...       ...     ...\n",
       "422    Early teen (13-15)    Early teen (13-15)       7.0       7\n",
       "423  Mature Adult (55-64)  Mature Adult (55-64)       8.0       8\n",
       "424  Mature Adult (55-64)  Mature Adult (55-64)       8.0       8\n",
       "425  Mature Adult (55-64)  Mature Adult (55-64)       8.0       8\n",
       "426    Early teen (13-15)  Mature Adult (55-64)       8.0       7\n",
       "\n",
       "[427 rows x 4 columns]"
      ]
     },
     "execution_count": 27,
     "metadata": {},
     "output_type": "execute_result"
    }
   ],
   "source": [
    "df[['6. Age (Sheet11)', '6. Age 1 (Sheet11)', '6. Age 1', '6. Age']]"
   ]
  },
  {
   "cell_type": "code",
   "execution_count": 31,
   "metadata": {
    "scrolled": true
   },
   "outputs": [
    {
     "data": {
      "text/plain": [
       "array(['Female', 'Male', 'Unsure'], dtype=object)"
      ]
     },
     "execution_count": 31,
     "metadata": {},
     "output_type": "execute_result"
    }
   ],
   "source": [
    "df['4. Sex (Sheet11)'].unique()"
   ]
  },
  {
   "cell_type": "code",
   "execution_count": 32,
   "metadata": {
    "scrolled": true
   },
   "outputs": [
    {
     "data": {
      "text/plain": [
       "1"
      ]
     },
     "execution_count": 32,
     "metadata": {},
     "output_type": "execute_result"
    }
   ],
   "source": [
    "len(df[df['4. Sex (Sheet11)']== 'Unsure'])"
   ]
  },
  {
   "cell_type": "code",
   "execution_count": 37,
   "metadata": {
    "scrolled": true
   },
   "outputs": [],
   "source": [
    "df_attr = df[['4. Sex (Sheet11)', '6. Age (Sheet11)','attractiveness (Sheet11)']]"
   ]
  },
  {
   "cell_type": "code",
   "execution_count": 47,
   "metadata": {
    "scrolled": false
   },
   "outputs": [],
   "source": [
    "df_attr = df_attr.rename(columns= {'4. Sex (Sheet11)': 'sex', '6. Age (Sheet11)': 'age', 'attractiveness (Sheet11)': 'attractiveness' })"
   ]
  },
  {
   "cell_type": "code",
   "execution_count": 53,
   "metadata": {},
   "outputs": [
    {
     "data": {
      "text/html": [
       "<div>\n",
       "<style scoped>\n",
       "    .dataframe tbody tr th:only-of-type {\n",
       "        vertical-align: middle;\n",
       "    }\n",
       "\n",
       "    .dataframe tbody tr th {\n",
       "        vertical-align: top;\n",
       "    }\n",
       "\n",
       "    .dataframe thead th {\n",
       "        text-align: right;\n",
       "    }\n",
       "</style>\n",
       "<table border=\"1\" class=\"dataframe\">\n",
       "  <thead>\n",
       "    <tr style=\"text-align: right;\">\n",
       "      <th></th>\n",
       "      <th>sex</th>\n",
       "      <th>age</th>\n",
       "      <th>attractiveness</th>\n",
       "    </tr>\n",
       "  </thead>\n",
       "  <tbody>\n",
       "    <tr>\n",
       "      <td>1</td>\n",
       "      <td>Male</td>\n",
       "      <td>Middle Age (40-54)</td>\n",
       "      <td>average</td>\n",
       "    </tr>\n",
       "    <tr>\n",
       "      <td>2</td>\n",
       "      <td>Male</td>\n",
       "      <td>Early teen (13-15)</td>\n",
       "      <td>average</td>\n",
       "    </tr>\n",
       "    <tr>\n",
       "      <td>3</td>\n",
       "      <td>Male</td>\n",
       "      <td>Mature Adult (55-64)</td>\n",
       "      <td>attractive</td>\n",
       "    </tr>\n",
       "    <tr>\n",
       "      <td>5</td>\n",
       "      <td>Male</td>\n",
       "      <td>Early teen (13-15)</td>\n",
       "      <td>average/attractive</td>\n",
       "    </tr>\n",
       "    <tr>\n",
       "      <td>7</td>\n",
       "      <td>Male</td>\n",
       "      <td>Early teen (13-15)</td>\n",
       "      <td>attractive</td>\n",
       "    </tr>\n",
       "  </tbody>\n",
       "</table>\n",
       "</div>"
      ],
      "text/plain": [
       "    sex                   age      attractiveness\n",
       "1  Male    Middle Age (40-54)             average\n",
       "2  Male    Early teen (13-15)             average\n",
       "3  Male  Mature Adult (55-64)          attractive\n",
       "5  Male    Early teen (13-15)  average/attractive\n",
       "7  Male    Early teen (13-15)          attractive"
      ]
     },
     "execution_count": 53,
     "metadata": {},
     "output_type": "execute_result"
    }
   ],
   "source": [
    "df_male = df_attr[df_attr['sex']== 'Male']\n",
    "df_male.head()"
   ]
  },
  {
   "cell_type": "code",
   "execution_count": 54,
   "metadata": {
    "scrolled": true
   },
   "outputs": [
    {
     "data": {
      "text/html": [
       "<div>\n",
       "<style scoped>\n",
       "    .dataframe tbody tr th:only-of-type {\n",
       "        vertical-align: middle;\n",
       "    }\n",
       "\n",
       "    .dataframe tbody tr th {\n",
       "        vertical-align: top;\n",
       "    }\n",
       "\n",
       "    .dataframe thead th {\n",
       "        text-align: right;\n",
       "    }\n",
       "</style>\n",
       "<table border=\"1\" class=\"dataframe\">\n",
       "  <thead>\n",
       "    <tr style=\"text-align: right;\">\n",
       "      <th></th>\n",
       "      <th>sex</th>\n",
       "      <th>age</th>\n",
       "      <th>attractiveness</th>\n",
       "    </tr>\n",
       "  </thead>\n",
       "  <tbody>\n",
       "    <tr>\n",
       "      <td>0</td>\n",
       "      <td>Female</td>\n",
       "      <td>Middle Age (40-54)</td>\n",
       "      <td>attractive</td>\n",
       "    </tr>\n",
       "    <tr>\n",
       "      <td>4</td>\n",
       "      <td>Female</td>\n",
       "      <td>Early teen (13-15)</td>\n",
       "      <td>attractive</td>\n",
       "    </tr>\n",
       "    <tr>\n",
       "      <td>6</td>\n",
       "      <td>Female</td>\n",
       "      <td>Mature Adult (55-64)</td>\n",
       "      <td>average</td>\n",
       "    </tr>\n",
       "    <tr>\n",
       "      <td>9</td>\n",
       "      <td>Female</td>\n",
       "      <td>Early teen (13-15)</td>\n",
       "      <td>attractive</td>\n",
       "    </tr>\n",
       "    <tr>\n",
       "      <td>11</td>\n",
       "      <td>Female</td>\n",
       "      <td>Early teen (13-15)</td>\n",
       "      <td>attractive</td>\n",
       "    </tr>\n",
       "  </tbody>\n",
       "</table>\n",
       "</div>"
      ],
      "text/plain": [
       "       sex                   age attractiveness\n",
       "0   Female    Middle Age (40-54)     attractive\n",
       "4   Female    Early teen (13-15)     attractive\n",
       "6   Female  Mature Adult (55-64)        average\n",
       "9   Female    Early teen (13-15)     attractive\n",
       "11  Female    Early teen (13-15)     attractive"
      ]
     },
     "execution_count": 54,
     "metadata": {},
     "output_type": "execute_result"
    }
   ],
   "source": [
    "df_female = df_attr[df_attr['sex']== 'Female']\n",
    "df_female.head()"
   ]
  },
  {
   "cell_type": "code",
   "execution_count": 77,
   "metadata": {},
   "outputs": [],
   "source": [
    "df_mVF_final = pd.DataFrame(columns=['sex','counts attractive', 'counts medium', 'counts average'])\n",
    "counts_attrM= len(df_male[df_male['attractiveness'] == 'attractive'])\n",
    "counts_avgM= len(df_male[df_male['attractiveness'] == 'average'])\n",
    "counts_medM= len(df_male[df_male['attractiveness'] == 'average/attractive'])\n",
    "\n",
    "counts_attrF= len(df_female[df_female['attractiveness'] == 'attractive'])\n",
    "counts_avgF= len(df_female[df_female['attractiveness'] == 'average'])\n",
    "counts_medF= len(df_female[df_female['attractiveness'] == 'average/attractive'])\n"
   ]
  },
  {
   "cell_type": "code",
   "execution_count": 78,
   "metadata": {},
   "outputs": [
    {
     "data": {
      "text/html": [
       "<div>\n",
       "<style scoped>\n",
       "    .dataframe tbody tr th:only-of-type {\n",
       "        vertical-align: middle;\n",
       "    }\n",
       "\n",
       "    .dataframe tbody tr th {\n",
       "        vertical-align: top;\n",
       "    }\n",
       "\n",
       "    .dataframe thead th {\n",
       "        text-align: right;\n",
       "    }\n",
       "</style>\n",
       "<table border=\"1\" class=\"dataframe\">\n",
       "  <thead>\n",
       "    <tr style=\"text-align: right;\">\n",
       "      <th></th>\n",
       "      <th>sex</th>\n",
       "      <th>counts attractive</th>\n",
       "      <th>counts medium</th>\n",
       "      <th>counts average</th>\n",
       "    </tr>\n",
       "  </thead>\n",
       "  <tbody>\n",
       "    <tr>\n",
       "      <td>0</td>\n",
       "      <td>Male</td>\n",
       "      <td>60</td>\n",
       "      <td>35</td>\n",
       "      <td>146</td>\n",
       "    </tr>\n",
       "    <tr>\n",
       "      <td>1</td>\n",
       "      <td>Female</td>\n",
       "      <td>83</td>\n",
       "      <td>23</td>\n",
       "      <td>59</td>\n",
       "    </tr>\n",
       "  </tbody>\n",
       "</table>\n",
       "</div>"
      ],
      "text/plain": [
       "      sex counts attractive counts medium counts average\n",
       "0    Male                60            35            146\n",
       "1  Female                83            23             59"
      ]
     },
     "execution_count": 78,
     "metadata": {},
     "output_type": "execute_result"
    }
   ],
   "source": [
    "df_mVF_final = df_mVF_final.append({ 'sex': \"Male\", 'counts attractive': counts_attrM, 'counts medium': \n",
    "                                   counts_medM, 'counts average': counts_avgM}, ignore_index=True)\n",
    "df_mVF_final = df_mVF_final.append({ 'sex': \"Female\", 'counts attractive': counts_attrF, 'counts medium': \n",
    "                                   counts_medF, 'counts average': counts_avgF}, ignore_index=True)\n",
    "\n",
    "df_mVF_final.head()"
   ]
  },
  {
   "cell_type": "code",
   "execution_count": null,
   "metadata": {},
   "outputs": [],
   "source": []
  }
 ],
 "metadata": {
  "kernelspec": {
   "display_name": "Python 3",
   "language": "python",
   "name": "python3"
  },
  "language_info": {
   "codemirror_mode": {
    "name": "ipython",
    "version": 3
   },
   "file_extension": ".py",
   "mimetype": "text/x-python",
   "name": "python",
   "nbconvert_exporter": "python",
   "pygments_lexer": "ipython3",
   "version": "3.7.4"
  }
 },
 "nbformat": 4,
 "nbformat_minor": 2
}
